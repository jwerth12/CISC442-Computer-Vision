{
  "cells": [
    {
      "cell_type": "markdown",
      "metadata": {
        "id": "-zqWWMDu4EjA"
      },
      "source": [
        "CISC442 PR2\n",
        "Jenn Werth\n",
        "\n",
        "Note: change the Runtime to T4 GPU"
      ]
    },
    {
      "cell_type": "code",
      "execution_count": 2,
      "metadata": {
        "id": "PPDKPD5d31Xi"
      },
      "outputs": [],
      "source": [
        "# Import required modules and libraries\n",
        "import torch\n",
        "import torch.nn as nn\n",
        "import torch.optim as optim\n",
        "from torch.optim import lr_scheduler\n",
        "import numpy as np\n",
        "import torchvision\n",
        "from torchvision import datasets, models, transforms"
      ]
    },
    {
      "cell_type": "code",
      "execution_count": 3,
      "metadata": {
        "id": "ZJIQZs8u4UA3"
      },
      "outputs": [],
      "source": [
        "# Resize the size of all images to a unanimous value (224, 224).\n",
        "# Convert PIL image objects into Tensors.\n",
        "# Normalize the tensor values based on the mean and standard deviation of the RGB values of all the images\n",
        "\n",
        "data_transforms = transforms.Compose([\n",
        "  transforms.Resize((224,224)),\n",
        "  transforms.RandomHorizontalFlip(),\n",
        "  transforms.ToTensor(),\n",
        "  transforms.Normalize(\n",
        "      mean = [0.485, 0.456, 0.406],   # Usimg mean and std dev of ImageNet\n",
        "      std = [0.229, 0.224, 0.225])\n",
        "])"
      ]
    },
    {
      "cell_type": "code",
      "execution_count": 4,
      "metadata": {
        "colab": {
          "base_uri": "https://localhost:8080/"
        },
        "id": "n0_IB-fr4nv_",
        "outputId": "0eb75f6f-736f-434c-fd5c-c59e14ffa9d4"
      },
      "outputs": [
        {
          "name": "stdout",
          "output_type": "stream",
          "text": [
            "Downloading https://www.cs.toronto.edu/~kriz/cifar-100-python.tar.gz to ./cifar-100-python.tar.gz\n"
          ]
        },
        {
          "name": "stderr",
          "output_type": "stream",
          "text": [
            "100%|██████████| 169001437/169001437 [00:12<00:00, 13208148.14it/s]\n"
          ]
        },
        {
          "name": "stdout",
          "output_type": "stream",
          "text": [
            "Extracting ./cifar-100-python.tar.gz to .\n",
            "Files already downloaded and verified\n"
          ]
        }
      ],
      "source": [
        "# Create an object of torchvision.datasets.CIFAR100 to get the training and testing set:\n",
        "\n",
        "# setting the root to the current working directory\n",
        "trainset = datasets.CIFAR100('.', train = True, transform = data_transforms,\n",
        "download=True)\n",
        "\n",
        "testset = datasets.CIFAR100('.', train=False, transform = data_transforms,\n",
        "download=True)"
      ]
    },
    {
      "cell_type": "code",
      "execution_count": 5,
      "metadata": {
        "id": "6pDYA7P1TDXB"
      },
      "outputs": [],
      "source": [
        "# Create a data loader.\n",
        "\n",
        "# Making one for the training and one for test set\n",
        "train_loader = torch.utils.data.DataLoader(trainset, batch_size=64, shuffle=True)\n",
        "test_loader = torch.utils.data.DataLoader(testset, batch_size=64, shuffle=True)\n",
        "\n",
        "# Batch sized used with Pytorch documentation = 64"
      ]
    },
    {
      "cell_type": "code",
      "execution_count": 6,
      "metadata": {
        "colab": {
          "base_uri": "https://localhost:8080/"
        },
        "id": "YRckooTYVN1q",
        "outputId": "ba5d1a91-4720-4f59-899f-32ecdab83fef"
      },
      "outputs": [
        {
          "name": "stderr",
          "output_type": "stream",
          "text": [
            "/usr/local/lib/python3.10/dist-packages/torchvision/models/_utils.py:208: UserWarning: The parameter 'pretrained' is deprecated since 0.13 and may be removed in the future, please use 'weights' instead.\n",
            "  warnings.warn(\n",
            "/usr/local/lib/python3.10/dist-packages/torchvision/models/_utils.py:223: UserWarning: Arguments other than a weight enum or `None` for 'weights' are deprecated since 0.13 and may be removed in the future. The current behavior is equivalent to passing `weights=VGG16_Weights.IMAGENET1K_V1`. You can also use `weights=VGG16_Weights.DEFAULT` to get the most up-to-date weights.\n",
            "  warnings.warn(msg)\n",
            "Downloading: \"https://download.pytorch.org/models/vgg16-397923af.pth\" to /root/.cache/torch/hub/checkpoints/vgg16-397923af.pth\n",
            "100%|██████████| 528M/528M [00:03<00:00, 153MB/s]\n"
          ]
        }
      ],
      "source": [
        "# Load a VGG16 network with pretrained ImageNet weights:\n",
        "model = models.vgg16(pretrained = True)"
      ]
    },
    {
      "cell_type": "code",
      "execution_count": 7,
      "metadata": {
        "colab": {
          "base_uri": "https://localhost:8080/"
        },
        "id": "6LdL1aysVVdf",
        "outputId": "8dee97f4-e502-464a-ba6c-3d1d2db903ca"
      },
      "outputs": [
        {
          "name": "stdout",
          "output_type": "stream",
          "text": [
            "4096\n"
          ]
        }
      ],
      "source": [
        "# Extract the number of input features for the last fully connected layer of the model:\n",
        "num_in_ftrs = model.classifier[6].in_features\n",
        "print(num_in_ftrs)"
      ]
    },
    {
      "cell_type": "code",
      "execution_count": 8,
      "metadata": {
        "id": "DDxGUMYxVeh9"
      },
      "outputs": [],
      "source": [
        "# Replace the last fully connected layer with a new layer.\n",
        "# The new layer has the same number of input features as the original network\n",
        "# but the number of outputs should be equal to the number of classes in the CIFAR100 dataset.\n",
        "\n",
        "num_cls = 100 # number of classes in the CIFAR100 dataset\n",
        "model.classifier[6] = nn.Linear(num_in_ftrs, num_cls)"
      ]
    },
    {
      "cell_type": "code",
      "execution_count": 9,
      "metadata": {
        "id": "7Vs1-KHSV2N_"
      },
      "outputs": [],
      "source": [
        "# We are using pretrained weights from the ImageNet dataset. The last layer of VGG16 has been replaced\n",
        "# for fitting with our dataset (CIFAR100).\n",
        "# Except for the new last layer, weights from other layers need to be frozen.\n",
        "# It means that these weights will not be updated during the training.\n",
        "\n",
        "for param in model.parameters(): # freeze all the layers\n",
        "  param.requires_grad = False\n",
        "for param in model.classifier[6].parameters(): # unfreeze the last linear layer.\n",
        "  param.requires_grad = True"
      ]
    },
    {
      "cell_type": "code",
      "execution_count": 10,
      "metadata": {
        "id": "4bzh6KGEWkpu"
      },
      "outputs": [],
      "source": [
        "# Set the number of epochs:\n",
        "num_epochs = 10"
      ]
    },
    {
      "cell_type": "code",
      "execution_count": 11,
      "metadata": {
        "id": "segtZ4QMWmxj"
      },
      "outputs": [],
      "source": [
        "# Move the model to GPU (if available):\n",
        "device = torch.device('cuda:0' if torch.cuda.is_available() else 'cpu')\n",
        "model = model.to(device)"
      ]
    },
    {
      "cell_type": "code",
      "execution_count": 12,
      "metadata": {
        "id": "Cv9NV4epWtVh"
      },
      "outputs": [],
      "source": [
        "# Define a loss function for evaluating the trained model:\n",
        "criterion = nn.CrossEntropyLoss()"
      ]
    },
    {
      "cell_type": "code",
      "execution_count": 13,
      "metadata": {
        "id": "huIzoGMZWyWT"
      },
      "outputs": [],
      "source": [
        "# Create an optimizer with an initial learning rate and momentum:\n",
        "optimizer = optim.SGD(model.parameters(), lr=0.001, momentum=0.9)"
      ]
    },
    {
      "cell_type": "code",
      "execution_count": 14,
      "metadata": {
        "id": "asxbW0bHW-85"
      },
      "outputs": [],
      "source": [
        "# Create a scheduler to control the way that learning rate changes during the training process:\n",
        "scheduler = lr_scheduler.StepLR(optimizer, step_size=7, gamma=0.1)"
      ]
    },
    {
      "cell_type": "code",
      "execution_count": 15,
      "metadata": {
        "id": "PV-E0nfbXCVe"
      },
      "outputs": [],
      "source": [
        "# Iterate over the epochs and save the best model weights.\n",
        "\n",
        "model.train() # set to training mode\n",
        "\n",
        "# extract the images and labels from each epoch\n",
        "for i in range(num_epochs):\n",
        "  for _, data in enumerate(train_loader, 0):\n",
        "    images, labels = data\n",
        "    images, labels = images.to(device), labels.to(device) # move to cpu from gpu\n",
        "    optimizer.zero_grad()\n",
        "    outputs = model(images) # here the model is the pretrained VGG16\n",
        "    loss = criterion(outputs, labels)\n",
        "    loss.backward()\n",
        "    optimizer.step()\n",
        "\n",
        "  scheduler.step()\n",
        "\n",
        "# https://pytorch.org/tutorials/beginner/basics/data_tutorial.html\n",
        "\n",
        "# Save the best model\n",
        "torch.save(model.state_dict(), 'best_model.pth')\n"
      ]
    },
    {
      "cell_type": "code",
      "execution_count": 17,
      "metadata": {
        "colab": {
          "base_uri": "https://localhost:8080/"
        },
        "id": "ngOQYaCLmgOD",
        "outputId": "d4981af8-fa21-44e1-dab7-44fcff23467b"
      },
      "outputs": [
        {
          "data": {
            "text/plain": [
              "<All keys matched successfully>"
            ]
          },
          "execution_count": 17,
          "metadata": {},
          "output_type": "execute_result"
        }
      ],
      "source": [
        "# Testing process\n",
        "model.load_state_dict(torch.load('best_model.pth'))"
      ]
    },
    {
      "cell_type": "code",
      "execution_count": 19,
      "metadata": {
        "colab": {
          "base_uri": "https://localhost:8080/"
        },
        "id": "k7gZueXOmqAj",
        "outputId": "e9704df3-326f-40da-b2c1-790f2eea1671"
      },
      "outputs": [
        {
          "name": "stdout",
          "output_type": "stream",
          "text": [
            "61.14000000000001\n"
          ]
        }
      ],
      "source": [
        "# Set model to evaluation / testing mode\n",
        "model.eval()\n",
        "\n",
        "# define vars for accuracy evaluation later\n",
        "correct = 0\n",
        "total = 0\n",
        "\n",
        "with torch.no_grad():\n",
        "  for i, data in enumerate(test_loader, 0):\n",
        "    images, labels = data\n",
        "    images, labels = images.to(device), labels.to(device)\n",
        "\n",
        "    outputs = model(images)\n",
        "    _, preds = torch.max(outputs, 1)\n",
        "    correct += (preds == labels).sum().item()\n",
        "    total += labels.size(0)\n",
        "\n",
        "accuracy = (correct / total) * 100\n",
        "print(accuracy)\n"
      ]
    }
  ],
  "metadata": {
    "accelerator": "GPU",
    "colab": {
      "gpuType": "T4",
      "provenance": []
    },
    "kernelspec": {
      "display_name": "Python 3",
      "name": "python3"
    },
    "language_info": {
      "name": "python"
    }
  },
  "nbformat": 4,
  "nbformat_minor": 0
}
